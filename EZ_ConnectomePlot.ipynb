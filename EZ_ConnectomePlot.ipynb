{
 "cells": [
  {
   "cell_type": "code",
   "execution_count": 10,
   "metadata": {},
   "outputs": [],
   "source": [
    "#### All this code is needed to load the atlas which defines the location of each ROI \n",
    "roi_maps = 'basc_2mm_scale064.nii.gz'\n",
    "\n",
    "from nilearn.plotting import plot_prob_atlas,plot_roi\n",
    "from nilearn.regions import connected_label_regions\n",
    "import numpy as np\n",
    "\n",
    "labels_maps = connected_label_regions(roi_maps)\n",
    "nrois = np.unique(labels_maps.get_data())[-1]\n",
    "\n",
    "from nilearn.image import math_img\n",
    "from nilearn.image import iter_img\n",
    "from nilearn.plotting import find_xyz_cut_coords\n",
    "\n",
    "### These next few lines calculate the coordinate of the center of each ROI\n",
    "\n",
    "roi_maps_4D = []\n",
    "\n",
    "for i in range(1,nrois+1):\n",
    "\n",
    "    curimg = math_img('img == %d' % i ,img=labels_maps)\n",
    "\n",
    "    roi_maps_4D.append(curimg)\n",
    "\n",
    "\t\n",
    "\n",
    "coords_connectome = [find_xyz_cut_coords(img) for img in iter_img(roi_maps_4D)]\n",
    "coords_connectome = np.stack(coords_connectome)\n",
    "\n",
    "### Now we can finally plot the connectomes\n",
    "\n",
    "\n",
    "\n",
    "from nilearn.plotting import plot_connectome \n",
    "\n",
    "\n",
    "\n",
    "###Replace MYMATRIX by the functional connectome you want to visualize\n",
    "\n",
    "#plot_connectome(A,coords_connectome,edge_threshold='98.5%')"
   ]
  },
  {
   "cell_type": "code",
   "execution_count": null,
   "metadata": {},
   "outputs": [],
   "source": []
  }
 ],
 "metadata": {
  "kernelspec": {
   "display_name": "Python 3",
   "language": "python",
   "name": "python3"
  },
  "language_info": {
   "codemirror_mode": {
    "name": "ipython",
    "version": 3
   },
   "file_extension": ".py",
   "mimetype": "text/x-python",
   "name": "python",
   "nbconvert_exporter": "python",
   "pygments_lexer": "ipython3",
   "version": "3.6.5"
  }
 },
 "nbformat": 4,
 "nbformat_minor": 2
}
