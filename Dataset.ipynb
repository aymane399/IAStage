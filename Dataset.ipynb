{
 "cells": [
  {
   "cell_type": "code",
   "execution_count": 41,
   "metadata": {
    "scrolled": true
   },
   "outputs": [
    {
     "name": "stdout",
     "output_type": "stream",
     "text": [
      "Requirement already satisfied: pandas in /srv/conda/lib/python3.6/site-packages\n",
      "Requirement already satisfied: pytz>=2011k in /srv/conda/lib/python3.6/site-packages (from pandas)\n",
      "Requirement already satisfied: numpy>=1.9.0 in /srv/conda/lib/python3.6/site-packages (from pandas)\n",
      "Requirement already satisfied: python-dateutil>=2.5.0 in /srv/conda/lib/python3.6/site-packages (from pandas)\n",
      "Requirement already satisfied: six>=1.5 in /srv/conda/lib/python3.6/site-packages (from python-dateutil>=2.5.0->pandas)\n",
      "\u001b[33mYou are using pip version 9.0.3, however version 10.0.1 is available.\n",
      "You should consider upgrading via the 'pip install --upgrade pip' command.\u001b[0m\n",
      "Requirement already satisfied: numpy in /srv/conda/lib/python3.6/site-packages\n",
      "\u001b[33mYou are using pip version 9.0.3, however version 10.0.1 is available.\n",
      "You should consider upgrading via the 'pip install --upgrade pip' command.\u001b[0m\n",
      "Requirement already satisfied: matplotlib in /srv/conda/lib/python3.6/site-packages\n",
      "Requirement already satisfied: kiwisolver>=1.0.1 in /srv/conda/lib/python3.6/site-packages (from matplotlib)\n",
      "Requirement already satisfied: cycler>=0.10 in /srv/conda/lib/python3.6/site-packages (from matplotlib)\n",
      "Requirement already satisfied: six>=1.10 in /srv/conda/lib/python3.6/site-packages (from matplotlib)\n",
      "Requirement already satisfied: pytz in /srv/conda/lib/python3.6/site-packages (from matplotlib)\n",
      "Requirement already satisfied: pyparsing!=2.0.4,!=2.1.2,!=2.1.6,>=2.0.1 in /srv/conda/lib/python3.6/site-packages (from matplotlib)\n",
      "Requirement already satisfied: numpy>=1.7.1 in /srv/conda/lib/python3.6/site-packages (from matplotlib)\n",
      "Requirement already satisfied: python-dateutil>=2.1 in /srv/conda/lib/python3.6/site-packages (from matplotlib)\n",
      "Requirement already satisfied: setuptools in /srv/conda/lib/python3.6/site-packages (from kiwisolver>=1.0.1->matplotlib)\n",
      "\u001b[33mYou are using pip version 9.0.3, however version 10.0.1 is available.\n",
      "You should consider upgrading via the 'pip install --upgrade pip' command.\u001b[0m\n",
      "Requirement already satisfied: scipy in /srv/conda/lib/python3.6/site-packages\n",
      "Requirement already satisfied: numpy>=1.8.2 in /srv/conda/lib/python3.6/site-packages (from scipy)\n",
      "\u001b[33mYou are using pip version 9.0.3, however version 10.0.1 is available.\n",
      "You should consider upgrading via the 'pip install --upgrade pip' command.\u001b[0m\n",
      "Requirement already satisfied: sklearn in /srv/conda/lib/python3.6/site-packages\n",
      "Requirement already satisfied: scikit-learn in /srv/conda/lib/python3.6/site-packages (from sklearn)\n",
      "\u001b[33mYou are using pip version 9.0.3, however version 10.0.1 is available.\n",
      "You should consider upgrading via the 'pip install --upgrade pip' command.\u001b[0m\n",
      "Collecting nilearn\n",
      "  Downloading https://files.pythonhosted.org/packages/f5/b8/ecf17d4ce0aee488ea4c1dc483cd191811f79c644010255258623988bd5b/nilearn-0.4.2-py2.py3-none-any.whl (979kB)\n",
      "\u001b[K    100% |████████████████████████████████| 983kB 627kB/s ta 0:00:01\n",
      "\u001b[?25hCollecting nibabel>=2.0.2 (from nilearn)\n",
      "  Downloading https://files.pythonhosted.org/packages/d9/f0/008aa42c3bd42d101cfcd5418643364a4b3dd2322de3e8b3d6c644ae0fb0/nibabel-2.3.0.tar.gz (4.2MB)\n",
      "\u001b[K    100% |████████████████████████████████| 4.2MB 153kB/s eta 0:00:01\n",
      "\u001b[?25hBuilding wheels for collected packages: nibabel\n",
      "  Running setup.py bdist_wheel for nibabel ... \u001b[?25ldone\n",
      "\u001b[?25h  Stored in directory: /home/jovyan/.cache/pip/wheels/7e/97/9b/7cf05225afac39de2dacef758fc06c0c0bdf3e6efb40fabb9c\n",
      "Successfully built nibabel\n",
      "Installing collected packages: nibabel, nilearn\n",
      "Successfully installed nibabel-2.3.0 nilearn-0.4.2\n",
      "\u001b[33mYou are using pip version 9.0.3, however version 10.0.1 is available.\n",
      "You should consider upgrading via the 'pip install --upgrade pip' command.\u001b[0m\n"
     ]
    }
   ],
   "source": [
    "!pip install pandas\n",
    "!pip install numpy\n",
    "!pip install matplotlib\n",
    "!pip install scipy\n",
    "!pip install sklearn\n",
    "!pip install nilearn\n",
    "\n",
    "import nilearn\n",
    "import pandas as pd\n",
    "import numpy as np\n",
    "import glob as gl\n",
    "import matplotlib.pyplot as plt\n",
    "import os\n",
    "import scipy as sp\n",
    "%matplotlib inline\n",
    "\n",
    "import sklearn\n",
    "from sklearn import *\n",
    "from sklearn.decomposition import PCA\n",
    "from sklearn.preprocessing import StandardScaler"
   ]
  },
  {
   "cell_type": "code",
   "execution_count": 2,
   "metadata": {},
   "outputs": [],
   "source": [
    "df = pd.read_pickle('UsefulData/Pk_QuesRes/DataNOBCQ.pk1')\n",
    "df = df.dropna()\n",
    "\n",
    "df_std = StandardScaler().fit_transform(df.iloc[:,1:])\n",
    "\n",
    "pca = PCA(n_components = 5)\n",
    "principal_components = pca.fit_transform (df_std)\n",
    "\n",
    "principal_df = pd.DataFrame(data = principal_components, columns = ['Comp1','Comp2','Comp3','Comp4','Comp5',] )"
   ]
  },
  {
   "cell_type": "code",
   "execution_count": 37,
   "metadata": {},
   "outputs": [],
   "source": [
    "X=[]\n",
    "for i in range(0,len(df)):      \n",
    "    a = df.iloc[i,0]+'0'\n",
    "    num = a[-4:-1]\n",
    "    try :\n",
    "        file = np.load(\"/home/jovyan/allsubjs/subj_010\"+num+\"_ses-02_task-rest_acq-AP_run-02_M_BASC_scale064.npz\")['ts']\n",
    "    except FileNotFoundError :\n",
    "        pass\n",
    "    if file.shape == (652,93):\n",
    "        X.append(file)\n",
    "    else :\n",
    "        pass\n",
    "X = np.array(X)\n",
    "    "
   ]
  },
  {
   "cell_type": "code",
   "execution_count": 38,
   "metadata": {},
   "outputs": [
    {
     "data": {
      "text/plain": [
       "(168, 652, 93)"
      ]
     },
     "execution_count": 38,
     "metadata": {},
     "output_type": "execute_result"
    }
   ],
   "source": [
    "X.shape"
   ]
  },
  {
   "cell_type": "code",
   "execution_count": null,
   "metadata": {},
   "outputs": [],
   "source": [
    "from nilearn.connectome import ConnectivityMeasure\n",
    "tangent_measure = ConnectivityMeasure(kind='tangent')\n",
    "tangent_matrix = tangent_measure.fit_transform(X)[0]\n"
   ]
  },
  {
   "cell_type": "code",
   "execution_count": null,
   "metadata": {},
   "outputs": [],
   "source": []
  }
 ],
 "metadata": {
  "kernelspec": {
   "display_name": "Python 3",
   "language": "python",
   "name": "python3"
  },
  "language_info": {
   "codemirror_mode": {
    "name": "ipython",
    "version": 3
   },
   "file_extension": ".py",
   "mimetype": "text/x-python",
   "name": "python",
   "nbconvert_exporter": "python",
   "pygments_lexer": "ipython3",
   "version": "3.6.5"
  }
 },
 "nbformat": 4,
 "nbformat_minor": 2
}
